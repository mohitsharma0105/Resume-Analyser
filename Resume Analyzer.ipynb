{
 "cells": [
  {
   "cell_type": "code",
   "execution_count": 7,
   "id": "95c33a6f-e0f0-40f6-8a3e-3fc08de309b6",
   "metadata": {},
   "outputs": [
    {
     "name": "stdout",
     "output_type": "stream",
     "text": [
      "Excel report generated: Analyzed_Resume_output.xlsx\n"
     ]
    }
   ],
   "source": [
    "import PyPDF2\n",
    "import pandas as pd\n",
    "import os\n",
    "\n",
    "def extract_text_from_pdf(pdf_path):\n",
    "    text = \"\"\n",
    "    with open(pdf_path, \"rb\") as file:\n",
    "        reader = PyPDF2.PdfReader(file)\n",
    "        for page_num in range(len(reader.pages)):\n",
    "            page = reader.pages[page_num]\n",
    "            text += page.extract_text()\n",
    "    return text\n",
    "\n",
    "def search_keywords(text, keywords):\n",
    "    keyword_counts = {}\n",
    "    for keyword in keywords:\n",
    "        keyword_counts[keyword] = text.lower().count(keyword.lower())\n",
    "    return keyword_counts\n",
    "\n",
    "def analyze_resumes(pdf_folder, keywords):\n",
    "    data = []\n",
    "\n",
    "    for pdf_file in os.listdir(pdf_folder):\n",
    "        if pdf_file.endswith(\".pdf\"):\n",
    "            pdf_path = os.path.join(pdf_folder, pdf_file)\n",
    "            text = extract_text_from_pdf(pdf_path)\n",
    "            keyword_counts = search_keywords(text, keywords)\n",
    "            \n",
    "            matched_phrases_list = []\n",
    "            for k, v in keyword_counts.items():\n",
    "                if v > 0:\n",
    "                    matched_phrases_list.append(k)\n",
    "            matched_phrases = \", \".join(matched_phrases_list)\n",
    "            \n",
    "            matched_count = sum(keyword_counts.values())\n",
    "            resume_details = {\n",
    "                \"resume_link\": pdf_path, \n",
    "                \"matched_phrases\": matched_phrases,\n",
    "                \"matched_count\": matched_count\n",
    "            }\n",
    "            data.append(resume_details)\n",
    "\n",
    "    df = pd.DataFrame(data)\n",
    "    return df\n",
    "\n",
    "def generate_excel_report(df, output_path):\n",
    "    writer = pd.ExcelWriter(output_path, engine='xlsxwriter')\n",
    "    df.to_excel(writer, index=False, sheet_name='Sheet1')\n",
    "    \n",
    "    worksheet = writer.sheets['Sheet1']\n",
    "\n",
    "    for row_num in range(len(df)):\n",
    "        file_path = os.path.abspath(df.at[row_num, \"resume_link\"])\n",
    "        file_name = os.path.basename(file_path)\n",
    "        worksheet.write_url(row_num + 1, 0, f'file:///{file_path}', string=file_name)\n",
    "    \n",
    "    writer.close()\n",
    "\n",
    "\n",
    "pdf_folder = \"resumes\"\n",
    "keywords = [\"Python\", \"Data Analysis\", \"Machine Learning\", \"SQL\"]\n",
    "\n",
    "df = analyze_resumes(pdf_folder, keywords)\n",
    "\n",
    "output_path = \"Analyzed_Resume_output.xlsx\"\n",
    "generate_excel_report(df, output_path)\n",
    "\n",
    "print(f\"Excel report generated: {output_path}\")"
   ]
  },
  {
   "cell_type": "code",
   "execution_count": null,
   "id": "5cdb3f76-3c0b-4906-9bae-bda409feb1cf",
   "metadata": {},
   "outputs": [],
   "source": []
  }
 ],
 "metadata": {
  "kernelspec": {
   "display_name": "Python 3 (ipykernel)",
   "language": "python",
   "name": "python3"
  },
  "language_info": {
   "codemirror_mode": {
    "name": "ipython",
    "version": 3
   },
   "file_extension": ".py",
   "mimetype": "text/x-python",
   "name": "python",
   "nbconvert_exporter": "python",
   "pygments_lexer": "ipython3",
   "version": "3.12.4"
  }
 },
 "nbformat": 4,
 "nbformat_minor": 5
}
